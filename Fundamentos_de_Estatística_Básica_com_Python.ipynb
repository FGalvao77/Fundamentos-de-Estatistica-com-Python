{
  "nbformat": 4,
  "nbformat_minor": 0,
  "metadata": {
    "colab": {
      "name": "Fundamentos de Estatística Básica com Python.ipynb",
      "provenance": [],
      "include_colab_link": true
    }
  },
  "cells": [
    {
      "cell_type": "markdown",
      "metadata": {
        "id": "view-in-github",
        "colab_type": "text"
      },
      "source": [
        "<a href=\"https://colab.research.google.com/github/FGalvao77/Fundamentos-de-Estatistica-com-Python/blob/main/Fundamentos_de_Estat%C3%ADstica_B%C3%A1sica_com_Python.ipynb\" target=\"_parent\"><img src=\"https://colab.research.google.com/assets/colab-badge.svg\" alt=\"Open In Colab\"/></a>"
      ]
    },
    {
      "cell_type": "markdown",
      "metadata": {
        "id": "Tctp_MqSyHbW"
      },
      "source": [
        "# **Fundamentos de Estatística Básica com Python**"
      ]
    },
    {
      "cell_type": "markdown",
      "metadata": {
        "id": "JtOdiIbzyHba"
      },
      "source": [
        "- Objetivo: apresentar os fundamentos de estatística para Data Science e demonstrar implementações com Python."
      ]
    },
    {
      "cell_type": "code",
      "metadata": {
        "id": "z-H_6VxLyHbb"
      },
      "source": [
        "# importando as bibliotecas necessárias\n",
        "import pandas as pd\n",
        "import matplotlib.pyplot as plt\n",
        "import numpy as np\n",
        "import statistics"
      ],
      "execution_count": null,
      "outputs": []
    },
    {
      "cell_type": "markdown",
      "metadata": {
        "id": "hTokAhO8yHbb"
      },
      "source": [
        "## 1. Medidas de posição"
      ]
    },
    {
      "cell_type": "markdown",
      "metadata": {
        "id": "VSDmg54uyHbc"
      },
      "source": [
        "***Média aritmética simples***\n",
        "- Soma dos elementos de um conjunto de dados dividido pelo número total de elementos deste conjunto.\n",
        "  \n",
        "    - *Média amostral.*\n",
        "        - A média amostral é um vetor onde cada um dos elementos é a média da amostra de uma das variáveis aleatórias, ou seja, cada um dos elementos é a média aritmética dos valores observados de uma das variáveis.\n",
        "  \n",
        "    - *Média populacional.*\n",
        "        - A média populacional representa a média real de toda a população. Quando calculado usando a média da amostra, é indicado por (s). Quando calculado usando média populacional, é denotado por (σ)."
      ]
    },
    {
      "cell_type": "markdown",
      "metadata": {
        "id": "S7aU_7oOyHbc"
      },
      "source": [
        "## **Exemplo 1**\n",
        "\n",
        "Vamos calcular a média de aluno na disciplina de matemática. As notas do aluno foram: \n",
        "- 7, 8, 6, 10. Suponha que para ser aprovado o aluno deve tirar uma média de 7 pontos."
      ]
    },
    {
      "cell_type": "code",
      "metadata": {
        "id": "S6ikCTLpyHbd",
        "outputId": "261fd6b5-2af5-4048-9e5b-83820dd67829"
      },
      "source": [
        "# instanciando uma lista com notas\n",
        "notas = [7, 8, 6, 10]\n",
        "notas"
      ],
      "execution_count": null,
      "outputs": [
        {
          "output_type": "display_data",
          "data": {
            "text/plain": [
              "[7, 8, 6, 10]"
            ]
          },
          "metadata": {
            "tags": []
          }
        }
      ]
    },
    {
      "cell_type": "code",
      "metadata": {
        "id": "N4d7cMWnyHbe",
        "outputId": "bd678b1c-d3d1-4b8c-8fe7-4aaa485efed2"
      },
      "source": [
        "# soma das notas\n",
        "soma = sum(notas); soma"
      ],
      "execution_count": null,
      "outputs": [
        {
          "output_type": "display_data",
          "data": {
            "text/plain": [
              "31"
            ]
          },
          "metadata": {
            "tags": []
          }
        }
      ]
    },
    {
      "cell_type": "code",
      "metadata": {
        "id": "bIMAdBsZyHbe",
        "outputId": "19643767-90c3-4f81-e792-0596cd7b47d7"
      },
      "source": [
        "# média das notas\n",
        "media = soma/len(notas); media"
      ],
      "execution_count": null,
      "outputs": [
        {
          "output_type": "display_data",
          "data": {
            "text/plain": [
              "7.75"
            ]
          },
          "metadata": {
            "tags": []
          }
        }
      ]
    },
    {
      "cell_type": "code",
      "metadata": {
        "id": "Iszp0tCAyHbf",
        "outputId": "9baddfcc-0390-4cbc-a964-a2aafb72494c"
      },
      "source": [
        "# simplificando o código e a impressão da média \n",
        "print(f'A média das notas é: {(sum(notas) / (len(notas)))}')"
      ],
      "execution_count": null,
      "outputs": [
        {
          "output_type": "stream",
          "text": [
            "A média das notas é: 7.75\n"
          ],
          "name": "stdout"
        }
      ]
    },
    {
      "cell_type": "markdown",
      "metadata": {
        "id": "Gt1hoUxLyHbf"
      },
      "source": [
        "## **Exemplo 2**\n",
        "\n",
        "Considere o índice de endividamento de um conjunto de empresas:\n",
        "-  25%, 51%, 76%, 41%, 55%, 13%. \n",
        "\n",
        "Calculemos a média do endividamento destas empresas."
      ]
    },
    {
      "cell_type": "code",
      "metadata": {
        "id": "CKqqtA2dyHbg"
      },
      "source": [
        "endividamento = [25, 51, 76, 41, 55, 13]"
      ],
      "execution_count": null,
      "outputs": []
    },
    {
      "cell_type": "code",
      "metadata": {
        "id": "LlDDtxSgyHbg"
      },
      "source": [
        "# criando uma função para calcular a média da variável \"endividamento\"\n",
        "def calcular_media(vetor):\n",
        "    return sum(vetor) / len(vetor)"
      ],
      "execution_count": null,
      "outputs": []
    },
    {
      "cell_type": "code",
      "metadata": {
        "id": "_lPAUhBkyHbg",
        "outputId": "277b58e8-0017-4df1-d221-e0d608a8d8c8"
      },
      "source": [
        "print(f'A média do endividamento é: {calcular_media(endividamento)}%')"
      ],
      "execution_count": null,
      "outputs": [
        {
          "output_type": "stream",
          "text": [
            "A média do endividamento é: 43.5%\n"
          ],
          "name": "stdout"
        }
      ]
    },
    {
      "cell_type": "markdown",
      "metadata": {
        "id": "ouKciJwUyHbh"
      },
      "source": [
        "**A média é sensível a valores extremos.**"
      ]
    },
    {
      "cell_type": "markdown",
      "metadata": {
        "id": "oB5knLx_yHbh"
      },
      "source": [
        "## **Exemplo 3**\n",
        "\n",
        "Vamos supor que uma loja registrou o seguinte resultado quanto a venda de 4 produtos, em determinado dia: \n",
        "- ``R$ 10.00, R$ 17.00, R$ 13.00, R$ 15.00``\n",
        "  \n",
        "  Calculemos a média."
      ]
    },
    {
      "cell_type": "code",
      "metadata": {
        "id": "kbTOHe_VyHbh",
        "outputId": "bfe0b3e9-9c5b-4b78-8c73-ceffa02b1de5"
      },
      "source": [
        "# instanciando uma lista com valores de vendas\n",
        "# calculando a média utilizando a função \"calcular_media()\"\n",
        "vendas = [10, 17, 13, 300]\n",
        "print(f'Média de vendas: {calcular_media(vendas)}')"
      ],
      "execution_count": null,
      "outputs": [
        {
          "output_type": "stream",
          "text": [
            "Média de vendas: 85.0\n"
          ],
          "name": "stdout"
        }
      ]
    },
    {
      "cell_type": "markdown",
      "metadata": {
        "id": "Ah77XmojyHbh"
      },
      "source": [
        "***Média aritmética ponderada***\n",
        "\n",
        " - Atribui pesos diferentes para cada elemento no conjunto de dados."
      ]
    },
    {
      "cell_type": "markdown",
      "metadata": {
        "id": "LsHUaxFxyHbi"
      },
      "source": [
        "## **Exemplo 4**\n",
        "\n",
        "Considere um estudente que realizou o ENEM para tentar ingressar no curso de Ciência da Computação.O aluno obteve as seguintes notas (com os respectivos pesos de cada prova):\n",
        "- Matemática e suas tecnologias: 718,91 (Peso 5);\n",
        "- Ciências da natureza e suas tecnologias: 521,33 (Peso 2);\n",
        "- Ciências humanas e suas tecnologias: 627,9 (Peso 2);\n",
        "- Linguagens, códigos e suas tecnologias: 610,12 (Peso 4);\n",
        "- Redação: 930 (Peso 5)."
      ]
    },
    {
      "cell_type": "code",
      "metadata": {
        "id": "mA-ZyjTTyHbi"
      },
      "source": [
        "# instanciando as variáveis \"notas\" e \"pesos\" com seus respectivos valores\n",
        "notas = [718.91, 521.33, 627.90, 610.12, 930.00]\n",
        "pesos = [5, 2, 2, 4, 5]"
      ],
      "execution_count": null,
      "outputs": []
    },
    {
      "cell_type": "code",
      "metadata": {
        "id": "JTcyBGNFyHbi",
        "outputId": "4d28c1a8-77dc-45d3-daa5-6e58d7f46a16"
      },
      "source": [
        "# imprimindo a média das notas com seus pesos\n",
        "np.average(notas, weights = pesos)"
      ],
      "execution_count": null,
      "outputs": [
        {
          "output_type": "display_data",
          "data": {
            "text/plain": [
              "721.305"
            ]
          },
          "metadata": {
            "tags": []
          }
        }
      ]
    },
    {
      "cell_type": "markdown",
      "metadata": {
        "id": "qwbRe3VwyHbj"
      },
      "source": [
        "**Mediana**\n",
        "\n",
        "- Valor que divide o conjunto de dados em duas partes iguais;\n",
        "- Precisamos ordenar o conjunto de dados em ordem crescente;\n",
        "    - Tamanho do conjunto de dados ímpar: a mediana será o valor central;\n",
        "    - Tamanho do conjunto de dados par: a mediana será a média aritmética dos dois valores centrais."
      ]
    },
    {
      "cell_type": "markdown",
      "metadata": {
        "id": "kh5PvsomyHbj"
      },
      "source": [
        "## **Exemplo 5**\n",
        "Vamos calcular a mediana da idade de um conjunto de pessoas. \n",
        "Vamos considerar dois conjuntos:\n",
        "- A = {87, 13, 11, 10, 10}\n",
        "- B = {23, 31, 17, 18}"
      ]
    },
    {
      "cell_type": "code",
      "metadata": {
        "id": "tJxX7YIwyHbj"
      },
      "source": [
        "# instanciando os valores dos conjuntos \"A\" e \"B\"\n",
        "conjunto_A = [10, 13, 11, 10, 87]\n",
        "conjunto_B = [23, 31, 17, 18]"
      ],
      "execution_count": null,
      "outputs": []
    },
    {
      "cell_type": "code",
      "metadata": {
        "id": "IlEf4ISPyHbk",
        "outputId": "4f1c5c17-4360-466b-bdb6-7807c5caef53"
      },
      "source": [
        "# média e mediana do conjunto A\n",
        "print(f'''Conjunto A\n",
        "      - Média:{np.mean(conjunto_A)}\n",
        "      - Mediana: {np.median(conjunto_A)}''')"
      ],
      "execution_count": null,
      "outputs": [
        {
          "output_type": "stream",
          "text": [
            "Conjunto A\n",
            "      - Média:26.2\n",
            "      - Mediana: 11.0\n"
          ],
          "name": "stdout"
        }
      ]
    },
    {
      "cell_type": "code",
      "metadata": {
        "id": "DWOvq0vVyHbk",
        "outputId": "3be5fcaf-a639-484d-f90d-7c1ac2c5fd27"
      },
      "source": [
        "# média e mediana do conjunto B\n",
        "print(f'''Conjunto B\n",
        "      - Média:{np.mean(conjunto_B)}\n",
        "      - Mediana: {np.median(conjunto_B)}''')"
      ],
      "execution_count": null,
      "outputs": [
        {
          "output_type": "stream",
          "text": [
            "Conjunto B\n",
            "      - Média:22.25\n",
            "      - Mediana: 20.5\n"
          ],
          "name": "stdout"
        }
      ]
    },
    {
      "cell_type": "markdown",
      "metadata": {
        "id": "WjVXtHJUyHbk"
      },
      "source": [
        "**Moda**\n",
        "\n",
        "- Valor com maior frequência em um conjunto de dados.\n",
        "- Podemos ter as seguintes situações para um conjunto de dados: conjunto com uma única moda (unimodal), com duas modas (bimodal), várias modas (multimodal) ou nenhuma moda (amodal)."
      ]
    },
    {
      "cell_type": "markdown",
      "metadata": {
        "id": "r_Sw1OAyyHbl"
      },
      "source": [
        "## **Exemplo 6**\n",
        "\n",
        "Vamos calcular a moda para os conjuntos a seguir:\n",
        "- A = {11, 2, 2, 9, 7} : o conjuntem tem uma única moda (Mo = 2);\n",
        "- B = {4, 4, 19}: o conjunto tem uma única moda (Mo = 4);\n",
        "- C = {3, 3, 1, 9, 9}: o conjunto tem duas modas (Mo1 = 3 e Mo2 = 9)"
      ]
    },
    {
      "cell_type": "code",
      "metadata": {
        "id": "RwOF9KYPyHbl"
      },
      "source": [
        "# instanciando as listas \"a\", \"b\" e \"c\"\n",
        "a = [11, 2, 2, 9, 7]\n",
        "b = [4, 4, 19]\n",
        "c = [3, 3, 1, 9, 9]"
      ],
      "execution_count": null,
      "outputs": []
    },
    {
      "cell_type": "code",
      "metadata": {
        "id": "lVGOvDPryHbm",
        "outputId": "010103cf-9f81-4e10-e896-b1e9d117b661"
      },
      "source": [
        "# verificando a moda da lista \"a\"\n",
        "statistics.mode(a)"
      ],
      "execution_count": null,
      "outputs": [
        {
          "output_type": "display_data",
          "data": {
            "text/plain": [
              "2"
            ]
          },
          "metadata": {
            "tags": []
          }
        }
      ]
    },
    {
      "cell_type": "code",
      "metadata": {
        "id": "MMqkiVsEyHbm",
        "outputId": "9d80cf38-25e8-41f6-ba72-dc8252a94627"
      },
      "source": [
        "# verificando a moda da lista \"b\"\n",
        "statistics.mode(b)"
      ],
      "execution_count": null,
      "outputs": [
        {
          "output_type": "display_data",
          "data": {
            "text/plain": [
              "4"
            ]
          },
          "metadata": {
            "tags": []
          }
        }
      ]
    },
    {
      "cell_type": "code",
      "metadata": {
        "id": "LMC6UKYSyHbm",
        "outputId": "afb599ca-c008-442a-a1a6-34021a685264"
      },
      "source": [
        "# verificando a moda da lista \"c\"\n",
        "statistics.mode(c)"
      ],
      "execution_count": null,
      "outputs": [
        {
          "output_type": "display_data",
          "data": {
            "text/plain": [
              "3"
            ]
          },
          "metadata": {
            "tags": []
          }
        }
      ]
    },
    {
      "cell_type": "code",
      "metadata": {
        "id": "Y4FE07J1yHbn",
        "outputId": "9c06517b-a89d-4f84-bb15-ff29ee1fcf10"
      },
      "source": [
        "# verificando a multimoda da lista \"c\"\n",
        "statistics.multimode(c)"
      ],
      "execution_count": null,
      "outputs": [
        {
          "output_type": "display_data",
          "data": {
            "text/plain": [
              "[3, 9]"
            ]
          },
          "metadata": {
            "tags": []
          }
        }
      ]
    },
    {
      "cell_type": "markdown",
      "metadata": {
        "id": "_DGHh-ANyHbn"
      },
      "source": [
        "## 2. Medidas de dispersão e associação\n",
        "- Objetivo: calcular o grau de dispersão de um conjunto de valores em torno da média."
      ]
    },
    {
      "cell_type": "markdown",
      "metadata": {
        "id": "jTbJ67lGyHbo"
      },
      "source": [
        "***Amplitude***\n",
        "- Diferença entre o maior e o menor valor de um conjunto de dados.\n",
        "\n",
        "        X ( 1 ) ≤ X ( 2 ) ≤ ⋯ ≤ X ( n − 1 ) ≤ X ( n )\n",
        "\n",
        "Calculamos então a amplitude: A = X ( n ) − X ( 1 )\n",
        "\n",
        "\n",
        "\n",
        "\n",
        "***Desvio em relação ao valor médio***\n",
        "\n",
        "- di = Xi − X"
      ]
    },
    {
      "cell_type": "markdown",
      "metadata": {
        "id": "h_lIOUsfyHbo"
      },
      "source": [
        "## **Exemplo 7**\n",
        "\n",
        "Vamos construir um exemplo inicial, para verificarmos que se somarmos cada desvio obteremos um valor nulo (d1 + d2 + d3 + d4 + d5 = 0). Consideremos o conjunto B.\n",
        "\n",
        "- B = {10, 15, 8, 5, 12}\n",
        "  \n",
        " x = 10 + 15 + 8 + 5 + 12 / 5\n",
        " x = 10\n",
        "\n",
        "- B = {5, 8, 10, 12, 15}\n",
        "- \n",
        "Calculando a amplitude:\n",
        "A = 15 − 5 = 10\n",
        "\n",
        "d1 = 5 − 10 = − 5\n",
        "\n",
        "d2 = 8 − 10 = − 2\n",
        "\n",
        "d3 = 10 − 10 = 0\n",
        "\n",
        "d4 = 12 − 10 = 2\n",
        "\n",
        "d5 = 15 − 10 = 5\n",
        "\n",
        "Somando os desvios:\n",
        "−5 − 2 + 0 + 2 + 5 = 0"
      ]
    },
    {
      "cell_type": "markdown",
      "metadata": {
        "id": "NvXYOg7byHbo"
      },
      "source": [
        "***Variância***\n",
        "\n",
        "- Mensura o grau de dispersão de um conjunto de valores em torno da média."
      ]
    },
    {
      "cell_type": "code",
      "metadata": {
        "id": "Z9Rfy8BiyHbo"
      },
      "source": [
        "B = [5, 8, 10, 12, 15]"
      ],
      "execution_count": null,
      "outputs": []
    },
    {
      "cell_type": "code",
      "metadata": {
        "id": "17VeRcx5yHbo",
        "outputId": "83850c12-63ce-4b54-99ec-9dbb9b9a6661"
      },
      "source": [
        "np.var(B)"
      ],
      "execution_count": null,
      "outputs": [
        {
          "output_type": "display_data",
          "data": {
            "text/plain": [
              "11.6"
            ]
          },
          "metadata": {
            "tags": []
          }
        }
      ]
    },
    {
      "cell_type": "markdown",
      "metadata": {
        "id": "PFm-VSW_yHbp"
      },
      "source": [
        "***Desvio padrão***\n",
        "- Raiz quadrada da variância."
      ]
    },
    {
      "cell_type": "markdown",
      "metadata": {
        "id": "uQVQi3K0yHbp"
      },
      "source": [
        "***Desvio Médio Absoluto***\n",
        "\n",
        "- Módulo do desvio em relação ao valor central."
      ]
    },
    {
      "cell_type": "markdown",
      "metadata": {
        "id": "tFsemvi_yHbp"
      },
      "source": [
        "***Covariância***\n",
        "- A variância conjunta (ou covariância) mensura o grau de interdependência entre duas variáveis aleatórias"
      ]
    },
    {
      "cell_type": "markdown",
      "metadata": {
        "id": "60iwAnrjyHbp"
      },
      "source": [
        "***Coeficiente de correlação***\n",
        "- A partir das definições anteriores, podemos mensurar o grau de correlação entre duas variáveis X e Y."
      ]
    },
    {
      "cell_type": "markdown",
      "metadata": {
        "id": "yXRDXKc9yHbp"
      },
      "source": [
        "- Renda e Consumo\n",
        "- PIB e IDH\n",
        "- Salário e anos de estudo\n",
        "  \n",
        "    - alta correlação não se traduz necessariamente em uma relação de causalidade entre as variáveis;\n",
        "    - os valores podem variar em uma escala de -1 a 1, sendo que valores positivos (negativos) denotam correlação positiva (negativa)."
      ]
    },
    {
      "cell_type": "markdown",
      "metadata": {
        "id": "eS6-D1QHyHbq"
      },
      "source": [
        "## 3. Implementações com a biblioteca Pandas"
      ]
    },
    {
      "cell_type": "code",
      "metadata": {
        "id": "rNw-jFd3yHbq",
        "outputId": "2926b4ba-ce62-466a-9f3e-0c7a45fda47f"
      },
      "source": [
        "dados = {'A': [1, 22, 1, 90],\n",
        "         'B': [40, 45, 47, 49],\n",
        "         'C': [15, 22, 33, 4]\n",
        "         }\n",
        "dados"
      ],
      "execution_count": null,
      "outputs": [
        {
          "output_type": "display_data",
          "data": {
            "text/plain": [
              "{'A': [1, 22, 1, 90], 'B': [40, 45, 47, 49], 'C': [15, 22, 33, 4]}"
            ]
          },
          "metadata": {
            "tags": []
          }
        }
      ]
    },
    {
      "cell_type": "code",
      "metadata": {
        "id": "5Wag1wKUyHbq",
        "outputId": "b8fe87dd-49cc-4b08-f8f9-0a43e1592df5"
      },
      "source": [
        "df = pd.DataFrame(dados)\n",
        "df"
      ],
      "execution_count": null,
      "outputs": [
        {
          "output_type": "display_data",
          "data": {
            "text/html": [
              "<div>\n",
              "<style scoped>\n",
              "    .dataframe tbody tr th:only-of-type {\n",
              "        vertical-align: middle;\n",
              "    }\n",
              "\n",
              "    .dataframe tbody tr th {\n",
              "        vertical-align: top;\n",
              "    }\n",
              "\n",
              "    .dataframe thead th {\n",
              "        text-align: right;\n",
              "    }\n",
              "</style>\n",
              "<table border=\"1\" class=\"dataframe\">\n",
              "  <thead>\n",
              "    <tr style=\"text-align: right;\">\n",
              "      <th></th>\n",
              "      <th>A</th>\n",
              "      <th>B</th>\n",
              "      <th>C</th>\n",
              "    </tr>\n",
              "  </thead>\n",
              "  <tbody>\n",
              "    <tr>\n",
              "      <th>0</th>\n",
              "      <td>1</td>\n",
              "      <td>40</td>\n",
              "      <td>15</td>\n",
              "    </tr>\n",
              "    <tr>\n",
              "      <th>1</th>\n",
              "      <td>22</td>\n",
              "      <td>45</td>\n",
              "      <td>22</td>\n",
              "    </tr>\n",
              "    <tr>\n",
              "      <th>2</th>\n",
              "      <td>1</td>\n",
              "      <td>47</td>\n",
              "      <td>33</td>\n",
              "    </tr>\n",
              "    <tr>\n",
              "      <th>3</th>\n",
              "      <td>90</td>\n",
              "      <td>49</td>\n",
              "      <td>4</td>\n",
              "    </tr>\n",
              "  </tbody>\n",
              "</table>\n",
              "</div>"
            ]
          },
          "metadata": {
            "tags": []
          }
        }
      ]
    },
    {
      "cell_type": "code",
      "metadata": {
        "id": "_NCZSlXgyHbr",
        "outputId": "9acacdd1-4bf8-46b1-9e3b-2fe72e1b17a6"
      },
      "source": [
        "df.max() # valor máximo por coluna"
      ],
      "execution_count": null,
      "outputs": [
        {
          "output_type": "display_data",
          "data": {
            "text/plain": [
              "A    90\n",
              "B    49\n",
              "C    33\n",
              "dtype: int64"
            ]
          },
          "metadata": {
            "tags": []
          }
        }
      ]
    },
    {
      "cell_type": "code",
      "metadata": {
        "id": "L-8tJbbayHbr",
        "outputId": "e6d47344-b822-42b3-8915-2946c798bd29"
      },
      "source": [
        "df.max(axis = 1) # valor máximo por linha"
      ],
      "execution_count": null,
      "outputs": [
        {
          "output_type": "display_data",
          "data": {
            "text/plain": [
              "0    40\n",
              "1    45\n",
              "2    47\n",
              "3    90\n",
              "dtype: int64"
            ]
          },
          "metadata": {
            "tags": []
          }
        }
      ]
    },
    {
      "cell_type": "code",
      "metadata": {
        "id": "u4ZLqrdLyHbr",
        "outputId": "ae6b93b6-b026-4645-9fcb-b54d6422380d"
      },
      "source": [
        "df.min() # valor mínimo por coluna"
      ],
      "execution_count": null,
      "outputs": [
        {
          "output_type": "display_data",
          "data": {
            "text/plain": [
              "A     1\n",
              "B    40\n",
              "C     4\n",
              "dtype: int64"
            ]
          },
          "metadata": {
            "tags": []
          }
        }
      ]
    },
    {
      "cell_type": "code",
      "metadata": {
        "id": "Kc1Y_VKQyHbs",
        "outputId": "75c4c52f-c4bc-4180-deb2-c865099e566f"
      },
      "source": [
        "df.sum() # soma das colunas"
      ],
      "execution_count": null,
      "outputs": [
        {
          "output_type": "display_data",
          "data": {
            "text/plain": [
              "A    114\n",
              "B    181\n",
              "C     74\n",
              "dtype: int64"
            ]
          },
          "metadata": {
            "tags": []
          }
        }
      ]
    },
    {
      "cell_type": "code",
      "metadata": {
        "id": "Xf4BvIdIyHbs",
        "outputId": "a3bdfc8d-02dc-4491-a657-e831002dfe95"
      },
      "source": [
        "df.mean() # média das colunas"
      ],
      "execution_count": null,
      "outputs": [
        {
          "output_type": "display_data",
          "data": {
            "text/plain": [
              "A    28.50\n",
              "B    45.25\n",
              "C    18.50\n",
              "dtype: float64"
            ]
          },
          "metadata": {
            "tags": []
          }
        }
      ]
    },
    {
      "cell_type": "code",
      "metadata": {
        "id": "-Pco3JacyHbs",
        "outputId": "f99eb6fb-f501-4133-be2a-380fef228924"
      },
      "source": [
        "df.var() # variância das colunas"
      ],
      "execution_count": null,
      "outputs": [
        {
          "output_type": "display_data",
          "data": {
            "text/plain": [
              "A    1779.000000\n",
              "B      14.916667\n",
              "C     148.333333\n",
              "dtype: float64"
            ]
          },
          "metadata": {
            "tags": []
          }
        }
      ]
    },
    {
      "cell_type": "code",
      "metadata": {
        "id": "x9rYul5DyHbs",
        "outputId": "e4def589-e4d5-4e7d-b0b8-e4c62066b0e0"
      },
      "source": [
        "df.std() # desvio padrão das colunas"
      ],
      "execution_count": null,
      "outputs": [
        {
          "output_type": "display_data",
          "data": {
            "text/plain": [
              "A    42.178193\n",
              "B     3.862210\n",
              "C    12.179217\n",
              "dtype: float64"
            ]
          },
          "metadata": {
            "tags": []
          }
        }
      ]
    },
    {
      "cell_type": "code",
      "metadata": {
        "id": "3KPTnSZQyHbt",
        "outputId": "c82b2a71-b198-4622-bd34-884cb099842d"
      },
      "source": [
        "df.mad() # desvio média absoluto"
      ],
      "execution_count": null,
      "outputs": [
        {
          "output_type": "display_data",
          "data": {
            "text/plain": [
              "A    30.75\n",
              "B     2.75\n",
              "C     9.00\n",
              "dtype: float64"
            ]
          },
          "metadata": {
            "tags": []
          }
        }
      ]
    },
    {
      "cell_type": "code",
      "metadata": {
        "id": "B5a3e7hKyHbt",
        "outputId": "044286c9-ec01-4448-f03c-91c43bc09181"
      },
      "source": [
        "df.describe().T # sumário estattístico"
      ],
      "execution_count": null,
      "outputs": [
        {
          "output_type": "display_data",
          "data": {
            "text/html": [
              "<div>\n",
              "<style scoped>\n",
              "    .dataframe tbody tr th:only-of-type {\n",
              "        vertical-align: middle;\n",
              "    }\n",
              "\n",
              "    .dataframe tbody tr th {\n",
              "        vertical-align: top;\n",
              "    }\n",
              "\n",
              "    .dataframe thead th {\n",
              "        text-align: right;\n",
              "    }\n",
              "</style>\n",
              "<table border=\"1\" class=\"dataframe\">\n",
              "  <thead>\n",
              "    <tr style=\"text-align: right;\">\n",
              "      <th></th>\n",
              "      <th>count</th>\n",
              "      <th>mean</th>\n",
              "      <th>std</th>\n",
              "      <th>min</th>\n",
              "      <th>25%</th>\n",
              "      <th>50%</th>\n",
              "      <th>75%</th>\n",
              "      <th>max</th>\n",
              "    </tr>\n",
              "  </thead>\n",
              "  <tbody>\n",
              "    <tr>\n",
              "      <th>A</th>\n",
              "      <td>4.0</td>\n",
              "      <td>28.50</td>\n",
              "      <td>42.178193</td>\n",
              "      <td>1.0</td>\n",
              "      <td>1.00</td>\n",
              "      <td>11.5</td>\n",
              "      <td>39.00</td>\n",
              "      <td>90.0</td>\n",
              "    </tr>\n",
              "    <tr>\n",
              "      <th>B</th>\n",
              "      <td>4.0</td>\n",
              "      <td>45.25</td>\n",
              "      <td>3.862210</td>\n",
              "      <td>40.0</td>\n",
              "      <td>43.75</td>\n",
              "      <td>46.0</td>\n",
              "      <td>47.50</td>\n",
              "      <td>49.0</td>\n",
              "    </tr>\n",
              "    <tr>\n",
              "      <th>C</th>\n",
              "      <td>4.0</td>\n",
              "      <td>18.50</td>\n",
              "      <td>12.179217</td>\n",
              "      <td>4.0</td>\n",
              "      <td>12.25</td>\n",
              "      <td>18.5</td>\n",
              "      <td>24.75</td>\n",
              "      <td>33.0</td>\n",
              "    </tr>\n",
              "  </tbody>\n",
              "</table>\n",
              "</div>"
            ]
          },
          "metadata": {
            "tags": []
          }
        }
      ]
    },
    {
      "cell_type": "code",
      "metadata": {
        "id": "BD8OukWfyHbt",
        "outputId": "0f53d847-340f-4d79-e955-5c8966915924"
      },
      "source": [
        "df['A'].describe().T # sumário estatístico da coluna A"
      ],
      "execution_count": null,
      "outputs": [
        {
          "output_type": "display_data",
          "data": {
            "text/plain": [
              "count     4.000000\n",
              "mean     28.500000\n",
              "std      42.178193\n",
              "min       1.000000\n",
              "25%       1.000000\n",
              "50%      11.500000\n",
              "75%      39.000000\n",
              "max      90.000000\n",
              "Name: A, dtype: float64"
            ]
          },
          "metadata": {
            "tags": []
          }
        }
      ]
    },
    {
      "cell_type": "markdown",
      "metadata": {
        "id": "nGIL7d4fyHbt"
      },
      "source": [
        "## 3. Referências"
      ]
    },
    {
      "cell_type": "markdown",
      "metadata": {
        "id": "-ko87U8uyHbu"
      },
      "source": [
        "1. ALEXANDRE ASSAF NETO. Mercado Financeiro. São Paulo: Atlas, 2014.\n",
        "2. BUSSAB, W. O.; MORETTIN, P. A. Estatística Básica. 6. ed. São Paulo : Saraiva, 2010.\n",
        "3. HOFFMANN, R. Estatística para Economistas. 4. ed. São Paulo : Pioneira, 2006.\n",
        "4. SARTORIS, A. Estatística e introdução à econometria. São Paulo: Saraiva, 2003."
      ]
    },
    {
      "cell_type": "code",
      "metadata": {
        "id": "2w_U__n1yHbu"
      },
      "source": [
        ""
      ],
      "execution_count": null,
      "outputs": []
    }
  ]
}